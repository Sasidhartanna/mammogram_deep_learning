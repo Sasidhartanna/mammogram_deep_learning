{
 "cells": [
  {
   "cell_type": "code",
   "execution_count": 1,
   "metadata": {},
   "outputs": [],
   "source": [
    "import glob\n",
    "import os\n",
    "import shutil\n",
    "import pandas as pd\n",
    "data = pd.read_csv(\"all-mias/dataset.csv\",header=None,sep=\" \",usecols=[0,3])"
   ]
  },
  {
   "cell_type": "code",
   "execution_count": 16,
   "metadata": {},
   "outputs": [
    {
     "name": "stdout",
     "output_type": "stream",
     "text": [
      "['mdb001', 'mdb002', 'mdb005', 'mdb005', 'mdb010', 'mdb012', 'mdb013', 'mdb015', 'mdb017', 'mdb019', 'mdb021', 'mdb025', 'mdb030', 'mdb032', 'mdb059', 'mdb063', 'mdb069', 'mdb080', 'mdb081', 'mdb083', 'mdb091', 'mdb097', 'mdb099', 'mdb104', 'mdb107', 'mdb121', 'mdb126', 'mdb127', 'mdb132', 'mdb132', 'mdb142', 'mdb144', 'mdb145', 'mdb150', 'mdb152', 'mdb160', 'mdb163', 'mdb165', 'mdb167', 'mdb175', 'mdb188', 'mdb190', 'mdb191', 'mdb193', 'mdb195', 'mdb198', 'mdb199', 'mdb204', 'mdb207', 'mdb212', 'mdb214', 'mdb218', 'mdb219', 'mdb222', 'mdb223', 'mdb223', 'mdb226', 'mdb226', 'mdb226', 'mdb227', 'mdb236', 'mdb240', 'mdb244', 'mdb248', 'mdb252', 'mdb290', 'mdb312', 'mdb314', 'mdb315']\n"
     ]
    }
   ],
   "source": [
    "data.columns = ['image','class']\n",
    "cancer_images = data[data['class'].notnull()]['image'].tolist()\n",
    "benign_images = data[data['class']=='B']['image'].tolist()\n",
    "malignant_images = data[data['class']=='M']['image'].tolist()\n",
    "print(benign_images)\n",
    "# files = glob.glob('all-mias/*.pgm')\n",
    "# for image in files:\n",
    "# #     print(image[9:15])\n",
    "#     if image[9:15] in cancer_images:\n",
    "#         shutil.copy2(image,'/home/ethi/ethi/apps/advance_research/cancer_non_cancer/cancer/')\n",
    "#     else:\n",
    "#         shutil.copy2(image,'/home/ethi/ethi/apps/advance_research/cancer_non_cancer/non_cancer/')\n",
    "files = glob.glob('all-mias/*.pgm')\n",
    "for image in files:\n",
    "    if image[9:15] in benign_images:\n",
    "        shutil.copy2(image,'/home/ethi/ethi/apps/advance_research/benign_maligant_non_cancer/benign/')\n",
    "    elif image[9:15] in malignant_images:\n",
    "        shutil.copy2(image,'/home/ethi/ethi/apps/advance_research/benign_maligant_non_cancer/malignant/')\n",
    "    else:\n",
    "        shutil.copy2(image,'/home/ethi/ethi/apps/advance_research/benign_maligant_non_cancer/non_cancer/')"
   ]
  }
 ],
 "metadata": {
  "kernelspec": {
   "display_name": "Python 3",
   "language": "python",
   "name": "python3"
  },
  "language_info": {
   "codemirror_mode": {
    "name": "ipython",
    "version": 3
   },
   "file_extension": ".py",
   "mimetype": "text/x-python",
   "name": "python",
   "nbconvert_exporter": "python",
   "pygments_lexer": "ipython3",
   "version": "3.6.1"
  }
 },
 "nbformat": 4,
 "nbformat_minor": 2
}
