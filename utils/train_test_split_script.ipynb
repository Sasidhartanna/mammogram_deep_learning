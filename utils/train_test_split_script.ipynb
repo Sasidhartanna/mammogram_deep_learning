{
 "cells": [
  {
   "cell_type": "code",
   "execution_count": 1,
   "metadata": {},
   "outputs": [],
   "source": [
    "import glob\n",
    "import os\n",
    "import shutil\n",
    "import pandas as pd\n",
    "from sklearn.model_selection import train_test_split\n",
    "data = pd.read_csv(\"dataset.csv\",header=None,sep=\" \",usecols=[0,3])\n"
   ]
  },
  {
   "cell_type": "code",
   "execution_count": 2,
   "metadata": {},
   "outputs": [],
   "source": [
    "#Create directories\n",
    "%mkdir \"preprocess_mias/benign_maligant_non_cancer\"\n",
    "%mkdir \"preprocess_mias/cancer_non_cancer\"\n",
    "%mkdir \"preprocess_mias/benign_maligant_non_cancer/train\"\n",
    "%mkdir \"preprocess_mias/benign_maligant_non_cancer/valid\"\n",
    "%mkdir \"preprocess_mias/cancer_non_cancer/train\"\n",
    "%mkdir \"preprocess_mias/cancer_non_cancer/valid\"\n",
    "%mkdir \"preprocess_mias/benign_maligant_non_cancer/train/benign\"\n",
    "%mkdir \"preprocess_mias/benign_maligant_non_cancer/train/malignant\"\n",
    "%mkdir \"preprocess_mias/benign_maligant_non_cancer/train/non_cancer\"\n",
    "%mkdir \"preprocess_mias/benign_maligant_non_cancer/valid/benign\"\n",
    "%mkdir \"preprocess_mias/benign_maligant_non_cancer/valid/malignant\"\n",
    "%mkdir \"preprocess_mias/benign_maligant_non_cancer/valid/non_cancer\"\n",
    "%mkdir \"preprocess_mias/cancer_non_cancer/train/cancer\"\n",
    "%mkdir \"preprocess_mias/cancer_non_cancer/train/non_cancer\"\n",
    "%mkdir \"preprocess_mias/cancer_non_cancer/valid/cancer\"\n",
    "%mkdir \"preprocess_mias/cancer_non_cancer/valid/non_cancer\"\n"
   ]
  },
  {
   "cell_type": "code",
   "execution_count": 3,
   "metadata": {},
   "outputs": [],
   "source": [
    "data.columns = ['image','class']\n",
    "cancer_images = data[data['class']!='N']['image'].tolist()\n",
    "normal_images = data[data['class']=='N']['image'].tolist()\n",
    "benign_images = data[data['class']=='B']['image'].tolist()\n",
    "malignant_images = data[data['class']=='M']['image'].tolist()\n",
    "os.chdir('preprocess_mias/data/')\n",
    "files = glob.glob('*.png')\n",
    "benign_train, benign_test = train_test_split(benign_images, test_size=0.2)\n",
    "malignant_train, malignant_test = train_test_split(malignant_images, test_size=0.2)\n",
    "normal_train, normal_test = train_test_split(normal_images, test_size=0.2)\n",
    "cancer_train, cancer_test = train_test_split(cancer_images, test_size=0.2)\n",
    "for image in files:\n",
    "    file = image[:-4]\n",
    "    if file in cancer_train:\n",
    "        shutil.copy2(image,'../cancer_non_cancer/train/cancer/')\n",
    "    elif file in cancer_test:\n",
    "        shutil.copy2(image,'../cancer_non_cancer/valid/cancer/')\n",
    "    elif file in normal_train:\n",
    "        shutil.copy2(image,'../cancer_non_cancer/train/non_cancer/')\n",
    "    else:\n",
    "        shutil.copy2(image,'../cancer_non_cancer/valid/non_cancer/')\n",
    "# files = glob.glob('all-mias/*.pgm')\n",
    "for image in files:\n",
    "    file = image[:-4]\n",
    "    if file in benign_train:\n",
    "        shutil.copy2(image,'../benign_maligant_non_cancer/train/benign')\n",
    "    elif file in benign_test:\n",
    "        shutil.copy2(image,'../benign_maligant_non_cancer/valid/benign')\n",
    "    elif file in malignant_train:\n",
    "        shutil.copy2(image,'../benign_maligant_non_cancer/train/malignant')\n",
    "    elif file in malignant_test:\n",
    "        shutil.copy2(image,'../benign_maligant_non_cancer/valid/malignant')\n",
    "    elif file in normal_train:\n",
    "        shutil.copy2(image,'../benign_maligant_non_cancer/train/non_cancer/')\n",
    "    else:\n",
    "        shutil.copy2(image,'../benign_maligant_non_cancer/valid/non_cancer/')"
   ]
  }
 ],
 "metadata": {
  "kernelspec": {
   "display_name": "Python 3",
   "language": "python",
   "name": "python3"
  },
  "language_info": {
   "codemirror_mode": {
    "name": "ipython",
    "version": 3
   },
   "file_extension": ".py",
   "mimetype": "text/x-python",
   "name": "python",
   "nbconvert_exporter": "python",
   "pygments_lexer": "ipython3",
   "version": "3.6.1"
  }
 },
 "nbformat": 4,
 "nbformat_minor": 2
}
