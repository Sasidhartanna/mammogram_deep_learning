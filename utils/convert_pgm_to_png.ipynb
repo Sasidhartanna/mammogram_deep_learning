{
 "cells": [
  {
   "cell_type": "code",
   "execution_count": 14,
   "metadata": {},
   "outputs": [
    {
     "name": "stdout",
     "output_type": "stream",
     "text": [
      "mogrify: unable to open image `/home/ethi/ethi/apps/advance_research/cancer_non_cancer_png/train/cancer/*.pgm': No such file or directory @ error/blob.c/OpenBlob/2712.\n",
      "rm: cannot remove '/home/ethi/ethi/apps/advance_research/cancer_non_cancer_png/train/cancer/*.pgm': No such file or directory\n"
     ]
    }
   ],
   "source": [
    "#Cancer_non_cancer->train->cancer\n",
    "!mogrify -format png /home/ethi/ethi/apps/advance_research/cancer_non_cancer_png/train/cancer/*.pgm\n",
    "!rm /home/ethi/ethi/apps/advance_research/cancer_non_cancer_png/train/cancer/*.pgm"
   ]
  },
  {
   "cell_type": "code",
   "execution_count": 15,
   "metadata": {},
   "outputs": [
    {
     "name": "stdout",
     "output_type": "stream",
     "text": [
      "mogrify: unable to open image `/home/ethi/ethi/apps/advance_research/cancer_non_cancer_png/train/non_cancer/*.pgm': No such file or directory @ error/blob.c/OpenBlob/2712.\n",
      "rm: cannot remove '/home/ethi/ethi/apps/advance_research/cancer_non_cancer_png/train/non_cancer/*.pgm': No such file or directory\n"
     ]
    }
   ],
   "source": [
    "#Cancer_non_cancer->train->non_cancer\n",
    "!mogrify -format png /home/ethi/ethi/apps/advance_research/cancer_non_cancer_png/train/non_cancer/*.pgm\n",
    "!rm /home/ethi/ethi/apps/advance_research/cancer_non_cancer_png/train/non_cancer/*.pgm"
   ]
  },
  {
   "cell_type": "code",
   "execution_count": 16,
   "metadata": {},
   "outputs": [
    {
     "name": "stdout",
     "output_type": "stream",
     "text": [
      "mogrify: unable to open image `/home/ethi/ethi/apps/advance_research/cancer_non_cancer_png/valid/cancer/*.pgm': No such file or directory @ error/blob.c/OpenBlob/2712.\n",
      "rm: cannot remove '/home/ethi/ethi/apps/advance_research/cancer_non_cancer_png/valid/cancer/*.pgm': No such file or directory\n"
     ]
    }
   ],
   "source": [
    "#Cancer_non_cancer->valid->cancer\n",
    "!mogrify -format png /home/ethi/ethi/apps/advance_research/cancer_non_cancer_png/valid/cancer/*.pgm\n",
    "!rm /home/ethi/ethi/apps/advance_research/cancer_non_cancer_png/valid/cancer/*.pgm"
   ]
  },
  {
   "cell_type": "code",
   "execution_count": 17,
   "metadata": {},
   "outputs": [
    {
     "name": "stdout",
     "output_type": "stream",
     "text": [
      "mogrify: unable to open image `/home/ethi/ethi/apps/advance_research/cancer_non_cancer_png/valid/non_cancer/*.pgm': No such file or directory @ error/blob.c/OpenBlob/2712.\n",
      "rm: cannot remove '/home/ethi/ethi/apps/advance_research/cancer_non_cancer_png/valid/non_cancer/*.pgm': No such file or directory\n"
     ]
    }
   ],
   "source": [
    "#Cancer_non_cancer->valid->non_cancer\n",
    "!mogrify -format png /home/ethi/ethi/apps/advance_research/cancer_non_cancer_png/valid/non_cancer/*.pgm\n",
    "!rm /home/ethi/ethi/apps/advance_research/cancer_non_cancer_png/valid/non_cancer/*.pgm"
   ]
  },
  {
   "cell_type": "code",
   "execution_count": 18,
   "metadata": {},
   "outputs": [],
   "source": [
    "#benign_maligant_non_cancer->train->benign\n",
    "!mogrify -format png /home/ethi/ethi/apps/advance_research/benign_maligant_non_cancer_png/train/benign/*.pgm\n",
    "!rm /home/ethi/ethi/apps/advance_research/benign_maligant_non_cancer_png/train/benign/*.pgm"
   ]
  },
  {
   "cell_type": "code",
   "execution_count": 19,
   "metadata": {},
   "outputs": [],
   "source": [
    "#benign_maligant_non_cancer->train->malignant\n",
    "!mogrify -format png /home/ethi/ethi/apps/advance_research/benign_maligant_non_cancer_png/train/malignant/*.pgm\n",
    "!rm /home/ethi/ethi/apps/advance_research/benign_maligant_non_cancer_png/train/malignant/*.pgm"
   ]
  },
  {
   "cell_type": "code",
   "execution_count": 20,
   "metadata": {},
   "outputs": [],
   "source": [
    "#benign_maligant_non_cancer->train->non_cancer\n",
    "!mogrify -format png /home/ethi/ethi/apps/advance_research/benign_maligant_non_cancer_png/train/non_cancer/*.pgm\n",
    "!rm /home/ethi/ethi/apps/advance_research/benign_maligant_non_cancer_png/train/non_cancer/*.pgm"
   ]
  },
  {
   "cell_type": "code",
   "execution_count": 21,
   "metadata": {},
   "outputs": [],
   "source": [
    "#benign_maligant_non_cancer->valid->benign\n",
    "!mogrify -format png /home/ethi/ethi/apps/advance_research/benign_maligant_non_cancer_png/valid/benign/*.pgm\n",
    "!rm /home/ethi/ethi/apps/advance_research/benign_maligant_non_cancer_png/valid/benign/*.pgm"
   ]
  },
  {
   "cell_type": "code",
   "execution_count": 22,
   "metadata": {},
   "outputs": [],
   "source": [
    "#benign_maligant_non_cancer->valid->malignant\n",
    "!mogrify -format png /home/ethi/ethi/apps/advance_research/benign_maligant_non_cancer_png/valid/malignant/*.pgm\n",
    "!rm /home/ethi/ethi/apps/advance_research/benign_maligant_non_cancer_png/valid/malignant/*.pgm"
   ]
  },
  {
   "cell_type": "code",
   "execution_count": 24,
   "metadata": {},
   "outputs": [],
   "source": [
    "#benign_maligant_non_cancer->valid->non_cancer\n",
    "!mogrify -format png /home/ethi/ethi/apps/advance_research/benign_maligant_non_cancer_png/valid/non_cancer/*.pgm\n",
    "!rm /home/ethi/ethi/apps/advance_research/benign_maligant_non_cancer_png/valid/non_cancer/*.pgm"
   ]
  }
 ],
 "metadata": {
  "kernelspec": {
   "display_name": "Python 3",
   "language": "python",
   "name": "python3"
  },
  "language_info": {
   "codemirror_mode": {
    "name": "ipython",
    "version": 3
   },
   "file_extension": ".py",
   "mimetype": "text/x-python",
   "name": "python",
   "nbconvert_exporter": "python",
   "pygments_lexer": "ipython3",
   "version": "3.6.1"
  }
 },
 "nbformat": 4,
 "nbformat_minor": 2
}
