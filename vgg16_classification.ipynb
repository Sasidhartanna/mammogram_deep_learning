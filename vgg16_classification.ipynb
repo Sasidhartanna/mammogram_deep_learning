{
 "cells": [
  {
   "cell_type": "code",
   "execution_count": 2,
   "metadata": {},
   "outputs": [
    {
     "name": "stderr",
     "output_type": "stream",
     "text": [
      "Using Theano backend.\n"
     ]
    }
   ],
   "source": [
    "from importlib import reload\n",
    "import utils\n",
    "reload(utils)\n",
    "from utils import plots\n",
    "\n",
    "import vgg16\n",
    "reload(vgg16)\n",
    "from vgg16 import Vgg16"
   ]
  },
  {
   "cell_type": "code",
   "execution_count": 3,
   "metadata": {},
   "outputs": [],
   "source": [
    "%matplotlib inline"
   ]
  },
  {
   "cell_type": "code",
   "execution_count": 7,
   "metadata": {},
   "outputs": [],
   "source": [
    "path1 = \"cancer_non_cancer_png/\"\n",
    "path2 = \"benign_maligant_non_cancer_png/\""
   ]
  },
  {
   "cell_type": "code",
   "execution_count": 8,
   "metadata": {},
   "outputs": [],
   "source": [
    "def classify(path):\n",
    "    vgg = Vgg16()\n",
    "    batch_size = 4\n",
    "    batches = vgg.get_batches(path+'train', batch_size=batch_size)\n",
    "    val_batches = vgg.get_batches(path+'valid', batch_size=batch_size*2)\n",
    "    vgg.finetune(batches)\n",
    "    vgg.fit(batches, val_batches, nb_epoch=1)"
   ]
  },
  {
   "cell_type": "markdown",
   "metadata": {},
   "source": [
    "# Cancer Non Cancer\n",
    "#trail 1 results\n",
    "Epoch 1/1\n",
    "56/56 [==============================] - 415s 7s/step - loss: 1.6457 - acc: 0.5580 - val_loss: 0.8953 - val_acc: 0.6146\n",
    "\n",
    "#trail 2 results\n",
    "Epoch 1/1\n",
    "56/56 [==============================] - 388s 7s/step - loss: 1.4113 - acc: 0.5223 - val_loss: 1.3846 - val_acc: 0.6458\n"
   ]
  },
  {
   "cell_type": "code",
   "execution_count": 10,
   "metadata": {},
   "outputs": [
    {
     "name": "stdout",
     "output_type": "stream",
     "text": [
      "Found 226 images belonging to 3 classes.\n",
      "Found 96 images belonging to 3 classes.\n",
      "Epoch 1/1\n",
      "56/56 [==============================] - 441s 8s/step - loss: 1.8231 - acc: 0.4688 - val_loss: 1.3078 - val_acc: 0.6354\n"
     ]
    }
   ],
   "source": [
    "classify(path1)\n",
    "classify(path2)"
   ]
  },
  {
   "cell_type": "markdown",
   "metadata": {},
   "source": [
    "# Benign Malignant Non Cancer\n",
    "#trail 1 results\n",
    "Epoch 1/1\n",
    "56/56 [==============================] - 392s 7s/step - loss: 2.4346 - acc: 0.5000 - val_loss: 1.3231 - val_acc: \n",
    "0.6458\n",
    "\n",
    "#trail 2 results\n",
    "Epoch 1/1\n",
    "56/56 [==============================] - 441s 8s/step - loss: 1.8231 - acc: 0.4688 - val_loss: 1.3078 - val_acc: 0.6354\n",
    "\n"
   ]
  }
 ],
 "metadata": {
  "kernelspec": {
   "display_name": "Python 3",
   "language": "python",
   "name": "python3"
  },
  "language_info": {
   "codemirror_mode": {
    "name": "ipython",
    "version": 3
   },
   "file_extension": ".py",
   "mimetype": "text/x-python",
   "name": "python",
   "nbconvert_exporter": "python",
   "pygments_lexer": "ipython3",
   "version": "3.6.1"
  }
 },
 "nbformat": 4,
 "nbformat_minor": 2
}
